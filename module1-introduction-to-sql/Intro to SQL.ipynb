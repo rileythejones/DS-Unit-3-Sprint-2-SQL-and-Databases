{
 "cells": [
  {
   "cell_type": "code",
   "execution_count": 1,
   "metadata": {},
   "outputs": [],
   "source": [
    "import sqlite3"
   ]
  },
  {
   "cell_type": "code",
   "execution_count": 8,
   "metadata": {},
   "outputs": [],
   "source": [
    "conn = sqlite3.connect('rpg_db.sqlite3')"
   ]
  },
  {
   "cell_type": "code",
   "execution_count": 9,
   "metadata": {},
   "outputs": [
    {
     "data": {
      "text/plain": [
       "<sqlite3.Connection at 0x211654389d0>"
      ]
     },
     "execution_count": 9,
     "metadata": {},
     "output_type": "execute_result"
    }
   ],
   "source": [
    "conn"
   ]
  },
  {
   "cell_type": "markdown",
   "metadata": {},
   "source": [
    "How many total Characters are there?"
   ]
  },
  {
   "cell_type": "code",
   "execution_count": 13,
   "metadata": {},
   "outputs": [],
   "source": [
    "query= 'SELECT COUNT(*) FROM charactercreator_character;'"
   ]
  },
  {
   "cell_type": "code",
   "execution_count": 17,
   "metadata": {},
   "outputs": [],
   "source": [
    "curs = conn.cursor()"
   ]
  },
  {
   "cell_type": "code",
   "execution_count": 11,
   "metadata": {
    "collapsed": true
   },
   "outputs": [
    {
     "data": {
      "text/plain": [
       "['__class__',\n",
       " '__delattr__',\n",
       " '__dir__',\n",
       " '__doc__',\n",
       " '__eq__',\n",
       " '__format__',\n",
       " '__ge__',\n",
       " '__getattribute__',\n",
       " '__gt__',\n",
       " '__hash__',\n",
       " '__init__',\n",
       " '__init_subclass__',\n",
       " '__iter__',\n",
       " '__le__',\n",
       " '__lt__',\n",
       " '__ne__',\n",
       " '__new__',\n",
       " '__next__',\n",
       " '__reduce__',\n",
       " '__reduce_ex__',\n",
       " '__repr__',\n",
       " '__setattr__',\n",
       " '__sizeof__',\n",
       " '__str__',\n",
       " '__subclasshook__',\n",
       " 'arraysize',\n",
       " 'close',\n",
       " 'connection',\n",
       " 'description',\n",
       " 'execute',\n",
       " 'executemany',\n",
       " 'executescript',\n",
       " 'fetchall',\n",
       " 'fetchmany',\n",
       " 'fetchone',\n",
       " 'lastrowid',\n",
       " 'row_factory',\n",
       " 'rowcount',\n",
       " 'setinputsizes',\n",
       " 'setoutputsize']"
      ]
     },
     "execution_count": 11,
     "metadata": {},
     "output_type": "execute_result"
    }
   ],
   "source": [
    "dir(curs)"
   ]
  },
  {
   "cell_type": "code",
   "execution_count": 21,
   "metadata": {},
   "outputs": [
    {
     "data": {
      "text/plain": [
       "[(302,)]"
      ]
     },
     "execution_count": 21,
     "metadata": {},
     "output_type": "execute_result"
    }
   ],
   "source": [
    "curs.execute(query).fetchall()"
   ]
  },
  {
   "cell_type": "code",
   "execution_count": 22,
   "metadata": {},
   "outputs": [],
   "source": [
    "curs.close()\n",
    "conn.commit()"
   ]
  },
  {
   "cell_type": "markdown",
   "metadata": {},
   "source": [
    "How many of each specific subclass?"
   ]
  },
  {
   "cell_type": "code",
   "execution_count": 26,
   "metadata": {},
   "outputs": [],
   "source": [
    "query = \"\"\"SELECT\n",
    "(SELECT COUNT(*) FROM charactercreator_cleric) as cleric,\n",
    "(SELECT COUNT(*) FROM charactercreator_fighter) as fighter, \n",
    "(SELECT COUNT(*) FROM charactercreator_mage) as mage,\n",
    "(SELECT COUNT(*) FROM charactercreator_necromancer) as necromancer,\n",
    "(SELECT COUNT(*) FROM charactercreator_thief) as thief;\"\"\""
   ]
  },
  {
   "cell_type": "code",
   "execution_count": 28,
   "metadata": {},
   "outputs": [],
   "source": [
    "curs = conn.cursor()"
   ]
  },
  {
   "cell_type": "code",
   "execution_count": 29,
   "metadata": {},
   "outputs": [
    {
     "data": {
      "text/plain": [
       "[(75, 68, 108, 11, 51)]"
      ]
     },
     "execution_count": 29,
     "metadata": {},
     "output_type": "execute_result"
    }
   ],
   "source": [
    "curs.execute(query).fetchall()"
   ]
  },
  {
   "cell_type": "code",
   "execution_count": 30,
   "metadata": {},
   "outputs": [],
   "source": [
    "curs.close()\n",
    "conn.commit()"
   ]
  },
  {
   "cell_type": "markdown",
   "metadata": {},
   "source": [
    "How many total Items?"
   ]
  },
  {
   "cell_type": "code",
   "execution_count": 31,
   "metadata": {},
   "outputs": [],
   "source": [
    "query = \"SELECT COUNT(*) FROM charactercreator_character_inventory;\""
   ]
  },
  {
   "cell_type": "code",
   "execution_count": 32,
   "metadata": {},
   "outputs": [
    {
     "data": {
      "text/plain": [
       "[(898,)]"
      ]
     },
     "execution_count": 32,
     "metadata": {},
     "output_type": "execute_result"
    }
   ],
   "source": [
    "curs = conn.cursor()\n",
    "output = curs.execute(query).fetchall()\n",
    "curs.close()\n",
    "conn.commit()\n",
    "output"
   ]
  },
  {
   "cell_type": "markdown",
   "metadata": {},
   "source": [
    "How many of the Items are weapons?"
   ]
  },
  {
   "cell_type": "code",
   "execution_count": 33,
   "metadata": {},
   "outputs": [
    {
     "data": {
      "text/plain": [
       "[(203,)]"
      ]
     },
     "execution_count": 33,
     "metadata": {},
     "output_type": "execute_result"
    }
   ],
   "source": [
    "query = \"\"\"SELECT COUNT(*) FROM armory_weapon\n",
    "INNER JOIN charactercreator_character_inventory ON\n",
    "item_id = item_ptr_id;\"\"\"\n",
    "\n",
    "curs = conn.cursor()\n",
    "output = curs.execute(query).fetchall()\n",
    "curs.close()\n",
    "conn.commit()\n",
    "output"
   ]
  },
  {
   "cell_type": "markdown",
   "metadata": {},
   "source": [
    "How many are not?"
   ]
  },
  {
   "cell_type": "code",
   "execution_count": 34,
   "metadata": {},
   "outputs": [
    {
     "data": {
      "text/plain": [
       "[(695,)]"
      ]
     },
     "execution_count": 34,
     "metadata": {},
     "output_type": "execute_result"
    }
   ],
   "source": [
    "query = \"\"\"SELECT\n",
    "\t(SELECT COUNT(*) FROM charactercreator_character_inventory)\n",
    "\t-(SELECT COUNT(*) FROM armory_weapon\n",
    "INNER JOIN charactercreator_character_inventory ON\n",
    "item_id = item_ptr_id)\"\"\"\n",
    "curs = conn.cursor()\n",
    "output = curs.execute(query).fetchall()\n",
    "curs.close()\n",
    "conn.commit()\n",
    "output"
   ]
  },
  {
   "cell_type": "markdown",
   "metadata": {},
   "source": [
    "How many Items does each character have? (Return first 20 rows)"
   ]
  },
  {
   "cell_type": "code",
   "execution_count": 37,
   "metadata": {},
   "outputs": [
    {
     "data": {
      "text/plain": [
       "[(1, 3),\n",
       " (2, 3),\n",
       " (3, 2),\n",
       " (4, 4),\n",
       " (5, 4),\n",
       " (6, 1),\n",
       " (7, 5),\n",
       " (8, 3),\n",
       " (9, 4),\n",
       " (10, 4),\n",
       " (11, 3),\n",
       " (12, 3),\n",
       " (13, 4),\n",
       " (14, 4),\n",
       " (15, 4),\n",
       " (16, 1),\n",
       " (17, 5),\n",
       " (18, 5),\n",
       " (19, 3),\n",
       " (20, 1)]"
      ]
     },
     "execution_count": 37,
     "metadata": {},
     "output_type": "execute_result"
    }
   ],
   "source": [
    "query = \"\"\"SELECT character_id, COUNT(*)\n",
    "FROM charactercreator_character_inventory\n",
    "GROUP BY character_id\n",
    "LIMIT 20;\"\"\"\n",
    "curs = conn.cursor()\n",
    "output = curs.execute(query).fetchall()\n",
    "curs.close()\n",
    "conn.commit()\n",
    "output"
   ]
  },
  {
   "cell_type": "markdown",
   "metadata": {},
   "source": [
    "How many Weapons does each character have? (Return first 20 rows)\n",
    "\n",
    "(note: this list only lists character ids that have weapons, so it isn't listed in means that character has zero weapons.) "
   ]
  },
  {
   "cell_type": "code",
   "execution_count": 38,
   "metadata": {},
   "outputs": [
    {
     "data": {
      "text/plain": [
       "[(5, 2),\n",
       " (7, 1),\n",
       " (11, 1),\n",
       " (20, 1),\n",
       " (22, 1),\n",
       " (23, 1),\n",
       " (26, 1),\n",
       " (27, 3),\n",
       " (29, 2),\n",
       " (30, 1),\n",
       " (32, 1),\n",
       " (34, 1),\n",
       " (35, 2),\n",
       " (36, 3),\n",
       " (37, 2),\n",
       " (38, 2),\n",
       " (39, 2),\n",
       " (40, 1),\n",
       " (41, 1),\n",
       " (47, 1)]"
      ]
     },
     "execution_count": 38,
     "metadata": {},
     "output_type": "execute_result"
    }
   ],
   "source": [
    "query = \"\"\"SELECT character_id, COUNT(*) FROM charactercreator_character_inventory\n",
    "INNER JOIN armory_weapon ON item_id = item_ptr_id\n",
    "GROUP BY character_id\n",
    "LIMIT 20;\n",
    "\"\"\"\n",
    "curs = conn.cursor()\n",
    "output = curs.execute(query).fetchall()\n",
    "curs.close()\n",
    "conn.commit()\n",
    "output"
   ]
  },
  {
   "cell_type": "markdown",
   "metadata": {},
   "source": [
    "On average, how many Items does each Character have?"
   ]
  },
  {
   "cell_type": "code",
   "execution_count": 39,
   "metadata": {},
   "outputs": [
    {
     "data": {
      "text/plain": [
       "[(2.9735099337748343,)]"
      ]
     },
     "execution_count": 39,
     "metadata": {},
     "output_type": "execute_result"
    }
   ],
   "source": [
    "query = \"\"\"SELECT avg(count)\n",
    "\tFROM\n",
    "\t(\n",
    "SELECT character_id, COUNT(*) as count\n",
    "FROM charactercreator_character_inventory\n",
    "GROUP BY character_id\n",
    ")\"\"\" \n",
    "curs = conn.cursor()\n",
    "output = curs.execute(query).fetchall()\n",
    "curs.close()\n",
    "conn.commit()\n",
    "output\n",
    "\n",
    "\n",
    "\n"
   ]
  },
  {
   "cell_type": "markdown",
   "metadata": {},
   "source": [
    "On average, how many Weapons does each character have?\n",
    "\n",
    "(note this lists the average number of weapons that weapon having characters have) "
   ]
  },
  {
   "cell_type": "code",
   "execution_count": 40,
   "metadata": {},
   "outputs": [
    {
     "data": {
      "text/plain": [
       "[(1.3096774193548386,)]"
      ]
     },
     "execution_count": 40,
     "metadata": {},
     "output_type": "execute_result"
    }
   ],
   "source": [
    "query = \"\"\"SELECT avg(count)\n",
    "\tFROM\n",
    "\t(\n",
    "SELECT character_id, COUNT(*) as count FROM charactercreator_character_inventory\n",
    "INNER JOIN armory_weapon ON item_id = item_ptr_id\n",
    "GROUP BY character_id)\"\"\" \n",
    "curs = conn.cursor()\n",
    "output = curs.execute(query).fetchall()\n",
    "curs.close()\n",
    "conn.commit()\n",
    "output\n",
    "\n"
   ]
  },
  {
   "cell_type": "markdown",
   "metadata": {},
   "source": [
    "# Part two "
   ]
  },
  {
   "cell_type": "code",
   "execution_count": 44,
   "metadata": {},
   "outputs": [],
   "source": [
    "import pandas as pd\n",
    "df = pd.read_csv(\"buddymove_holidayiq.csv\")"
   ]
  },
  {
   "cell_type": "code",
   "execution_count": 45,
   "metadata": {},
   "outputs": [],
   "source": [
    "# creates the database file \n",
    "conn = sqlite3.connect('buddymove_holidayiq.sqlite3')"
   ]
  },
  {
   "cell_type": "code",
   "execution_count": 46,
   "metadata": {},
   "outputs": [
    {
     "name": "stderr",
     "output_type": "stream",
     "text": [
      "C:\\Users\\Ryloid\\Anaconda3\\envs\\unit2\\lib\\site-packages\\pandas\\core\\generic.py:2712: UserWarning: The spaces in these column names will not be changed. In pandas versions < 0.14, spaces were converted to underscores.\n",
      "  method=method,\n"
     ]
    }
   ],
   "source": [
    "df.to_sql('reviews', con=conn)"
   ]
  },
  {
   "cell_type": "markdown",
   "metadata": {},
   "source": [
    "Count how many rows you have - it should be 249!"
   ]
  },
  {
   "cell_type": "code",
   "execution_count": 48,
   "metadata": {},
   "outputs": [
    {
     "data": {
      "text/plain": [
       "[(249,)]"
      ]
     },
     "execution_count": 48,
     "metadata": {},
     "output_type": "execute_result"
    }
   ],
   "source": [
    "query = \"SELECT COUNT(*) from reviews;\"\n",
    "curs = conn.cursor()\n",
    "output = curs.execute(query).fetchall()\n",
    "curs.close()\n",
    "conn.commit()\n",
    "output"
   ]
  },
  {
   "cell_type": "markdown",
   "metadata": {},
   "source": [
    "How many users who reviewed at least 100 Nature in the category also reviewed at least 100 in the Shopping category?"
   ]
  },
  {
   "cell_type": "code",
   "execution_count": 49,
   "metadata": {},
   "outputs": [
    {
     "data": {
      "text/plain": [
       "[(78,)]"
      ]
     },
     "execution_count": 49,
     "metadata": {},
     "output_type": "execute_result"
    }
   ],
   "source": [
    "query = \"SELECT COUNT(*) FROM reviews WHERE Nature > 100 AND Shopping > 100;\"\n",
    "curs = conn.cursor()\n",
    "output = curs.execute(query).fetchall()\n",
    "curs.close()\n",
    "conn.commit()\n",
    "output"
   ]
  },
  {
   "cell_type": "code",
   "execution_count": null,
   "metadata": {},
   "outputs": [],
   "source": [
    "What are the average number of reviews for each category?"
   ]
  },
  {
   "cell_type": "code",
   "execution_count": 50,
   "metadata": {},
   "outputs": [
    {
     "data": {
      "text/plain": [
       "[(124.51807228915662,\n",
       "  11.987951807228916,\n",
       "  116.37751004016064,\n",
       "  112.63855421686748,\n",
       "  120.40160642570281,\n",
       "  109.77911646586345)]"
      ]
     },
     "execution_count": 50,
     "metadata": {},
     "output_type": "execute_result"
    }
   ],
   "source": [
    "query = \"\"\"SELECT\n",
    "(SELECT AVG(Nature) FROM reviews) as av_nature,\n",
    "(SELECT AVG(Sports) FROM reviews) as av_sports,\n",
    "(SELECT AVG(Theatre) FROM reviews) as av_theatre,\n",
    "(SELECT AVG(Shopping) FROM reviews) as av_shopping,\n",
    "(SELECT AVG(Picnic) FROM reviews) as av_picnic,\n",
    "(SELECT AVG(Religious) FROM reviews) as av_relgious;\"\"\"\n",
    "curs = conn.cursor()\n",
    "output = curs.execute(query).fetchall()\n",
    "curs.close()\n",
    "conn.commit()\n",
    "output"
   ]
  },
  {
   "cell_type": "code",
   "execution_count": null,
   "metadata": {},
   "outputs": [],
   "source": []
  }
 ],
 "metadata": {
  "kernelspec": {
   "display_name": "Python 3",
   "language": "python",
   "name": "python3"
  },
  "language_info": {
   "codemirror_mode": {
    "name": "ipython",
    "version": 3
   },
   "file_extension": ".py",
   "mimetype": "text/x-python",
   "name": "python",
   "nbconvert_exporter": "python",
   "pygments_lexer": "ipython3",
   "version": "3.7.4"
  }
 },
 "nbformat": 4,
 "nbformat_minor": 2
}
